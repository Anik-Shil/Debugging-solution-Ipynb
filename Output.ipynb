{
 "cells": [
  {
   "cell_type": "code",
   "execution_count": 1,
   "metadata": {
    "nbgrader": {
     "grade": false,
     "grade_id": "16dd0e54-1177-41f7-a262-2b4c8bf37c63",
     "locked": false,
     "points": 1,
     "schema_version": 3,
     "solution": false,
     "task": false
    }
   },
   "outputs": [
    {
     "name": "stdout",
     "output_type": "stream",
     "text": [
      "Requirement already satisfied: torch in c:\\users\\way wise tech 2\\anaconda3\\lib\\site-packages (2.7.0+cpu)\n",
      "Requirement already satisfied: torchvision in c:\\users\\way wise tech 2\\anaconda3\\lib\\site-packages (0.22.0+cpu)\n",
      "Requirement already satisfied: matplotlib in c:\\users\\way wise tech 2\\anaconda3\\lib\\site-packages (3.9.2)\n",
      "Requirement already satisfied: filelock in c:\\users\\way wise tech 2\\anaconda3\\lib\\site-packages (from torch) (3.13.1)\n",
      "Requirement already satisfied: typing-extensions>=4.10.0 in c:\\users\\way wise tech 2\\anaconda3\\lib\\site-packages (from torch) (4.11.0)\n",
      "Requirement already satisfied: sympy>=1.13.3 in c:\\users\\way wise tech 2\\anaconda3\\lib\\site-packages (from torch) (1.13.3)\n",
      "Requirement already satisfied: networkx in c:\\users\\way wise tech 2\\anaconda3\\lib\\site-packages (from torch) (3.3)\n",
      "Requirement already satisfied: jinja2 in c:\\users\\way wise tech 2\\anaconda3\\lib\\site-packages (from torch) (3.1.4)\n",
      "Requirement already satisfied: fsspec in c:\\users\\way wise tech 2\\anaconda3\\lib\\site-packages (from torch) (2024.6.1)\n",
      "Requirement already satisfied: setuptools in c:\\users\\way wise tech 2\\anaconda3\\lib\\site-packages (from torch) (75.1.0)\n",
      "Requirement already satisfied: numpy in c:\\users\\way wise tech 2\\anaconda3\\lib\\site-packages (from torchvision) (1.26.4)\n",
      "Requirement already satisfied: pillow!=8.3.*,>=5.3.0 in c:\\users\\way wise tech 2\\anaconda3\\lib\\site-packages (from torchvision) (10.4.0)\n",
      "Requirement already satisfied: contourpy>=1.0.1 in c:\\users\\way wise tech 2\\anaconda3\\lib\\site-packages (from matplotlib) (1.2.0)\n",
      "Requirement already satisfied: cycler>=0.10 in c:\\users\\way wise tech 2\\anaconda3\\lib\\site-packages (from matplotlib) (0.11.0)\n",
      "Requirement already satisfied: fonttools>=4.22.0 in c:\\users\\way wise tech 2\\anaconda3\\lib\\site-packages (from matplotlib) (4.51.0)\n",
      "Requirement already satisfied: kiwisolver>=1.3.1 in c:\\users\\way wise tech 2\\anaconda3\\lib\\site-packages (from matplotlib) (1.4.4)\n",
      "Requirement already satisfied: packaging>=20.0 in c:\\users\\way wise tech 2\\anaconda3\\lib\\site-packages (from matplotlib) (24.1)\n",
      "Requirement already satisfied: pyparsing>=2.3.1 in c:\\users\\way wise tech 2\\anaconda3\\lib\\site-packages (from matplotlib) (3.1.2)\n",
      "Requirement already satisfied: python-dateutil>=2.7 in c:\\users\\way wise tech 2\\anaconda3\\lib\\site-packages (from matplotlib) (2.9.0.post0)\n",
      "Requirement already satisfied: six>=1.5 in c:\\users\\way wise tech 2\\anaconda3\\lib\\site-packages (from python-dateutil>=2.7->matplotlib) (1.16.0)\n",
      "Requirement already satisfied: mpmath<1.4,>=1.1.0 in c:\\users\\way wise tech 2\\anaconda3\\lib\\site-packages (from sympy>=1.13.3->torch) (1.3.0)\n",
      "Requirement already satisfied: MarkupSafe>=2.0 in c:\\users\\way wise tech 2\\anaconda3\\lib\\site-packages (from jinja2->torch) (2.1.3)\n",
      "Note: you may need to restart the kernel to use updated packages.\n"
     ]
    }
   ],
   "source": [
    "pip install torch torchvision matplotlib"
   ]
  },
  {
   "cell_type": "markdown",
   "metadata": {
    "nbgrader": {
     "grade": false,
     "grade_id": "cc882a7b-ee15-441c-8f29-7a88334928d4",
     "locked": true,
     "points": 1,
     "schema_version": 3,
     "solution": false,
     "task": false
    }
   },
   "source": [
    "<h1 id=\"exercise-1\"><strong>Exercise 1</strong></h1>\n"
   ]
  },
  {
   "cell_type": "markdown",
   "metadata": {
    "nbgrader": {
     "grade": false,
     "grade_id": "5361b734-8aa8-4f12-8749-ff1ab0d84c8b",
     "locked": true,
     "points": 1,
     "schema_version": 3,
     "solution": false,
     "task": false
    }
   },
   "source": [
    "<font size=\"4px\"><p>This method returns the fruit name by getting the string at a specific index of the set.</p>\n",
    "<dl>\n",
    "<dt>param fruit_id</dt>\n",
    "<dd><p>The id of the fruit to get</p>\n",
    "</dd>\n",
    "<dt>param fruits</dt>\n",
    "<dd><p>The set of fruits to choose the id from</p>\n",
    "</dd>\n",
    "<dt>return</dt>\n",
    "<dd><p>The string corrosponding to the index <code>fruit_id</code></p>\n",
    "</dd>\n",
    "</dl>\n",
    "<p><strong>This method is part of a series of debugging exercises.</strong> <strong>Each Python method of this series contains bug that needs to be found.</strong></p>\n",
    "<div class=\"line-block\"><code>1   It does not print the fruit at the correct index, why is the returned result wrong?</code><br />\n",
    "<code>2   How could this be fixed?</code></div>\n",
    "<p>This example demonstrates the issue: name1, name3 and name4 are expected to correspond to the strings at the indices 1, 3, and 4: 'orange', 'kiwi' and 'strawberry'..</p>\n",
    "</font>"
   ]
  },
  {
   "cell_type": "code",
   "execution_count": 2,
   "metadata": {
    "nbgrader": {
     "grade": false,
     "grade_id": "ed23d9b0-ae7a-4024-b39c-2824f8b5699e",
     "locked": false,
     "points": 1,
     "schema_version": 3,
     "solution": false,
     "task": false
    }
   },
   "outputs": [
    {
     "name": "stdout",
     "output_type": "stream",
     "text": [
      "kiwi\n",
      "orange\n",
      "strawberry\n"
     ]
    }
   ],
   "source": [
    "from typing import Set \n",
    "\n",
    "def id_to_fruit(fruit_id: int, fruits: Set[str]) -> str:\n",
    "    \"\"\"\n",
    "    Returns the fruit at the given index after converting the set to a sorted list.\n",
    "    \"\"\"\n",
    "    fruits_list = sorted(fruits)\n",
    "    if 0 <= fruit_id < len(fruits_list):\n",
    "        return fruits_list[fruit_id]\n",
    "    raise RuntimeError(f\"Fruit with id {fruit_id} does not exist\")\n",
    "\n",
    "# Test\n",
    "name1 = id_to_fruit(1, {\"apple\", \"orange\", \"melon\", \"kiwi\", \"strawberry\"})\n",
    "name3 = id_to_fruit(3, {\"apple\", \"orange\", \"melon\", \"kiwi\", \"strawberry\"})\n",
    "name4 = id_to_fruit(4, {\"apple\", \"orange\", \"melon\", \"kiwi\", \"strawberry\"})\n",
    "\n",
    "print(name1)\n",
    "print(name3)\n",
    "print(name4)\n"
   ]
  },
  {
   "cell_type": "code",
   "execution_count": 3,
   "metadata": {
    "nbgrader": {
     "grade": false,
     "grade_id": "025aaa96-8477-4a10-bb5d-d705e81d8aa1",
     "locked": true,
     "points": 1,
     "schema_version": 3,
     "solution": false,
     "task": false
    }
   },
   "outputs": [],
   "source": [
    "name1 = id_to_fruit(1, {\"apple\", \"orange\", \"melon\", \"kiwi\", \"strawberry\"})\n",
    "name3 = id_to_fruit(3, {\"apple\", \"orange\", \"melon\", \"kiwi\", \"strawberry\"})\n",
    "name4 = id_to_fruit(4, {\"apple\", \"orange\", \"melon\", \"kiwi\", \"strawberry\"})\n"
   ]
  },
  {
   "cell_type": "markdown",
   "metadata": {
    "nbgrader": {
     "grade": false,
     "grade_id": "ae288313-4e91-4a31-8c2d-dc06c7b65a74",
     "locked": true,
     "points": 1,
     "schema_version": 3,
     "solution": false,
     "task": false
    }
   },
   "source": [
    "<h1 id=\"exercise-2\"><strong>Exercise 2</strong></h1>\n"
   ]
  },
  {
   "cell_type": "markdown",
   "metadata": {
    "nbgrader": {
     "grade": false,
     "grade_id": "4cd5165e-4013-40fb-9a86-82f4080fcf9d",
     "locked": true,
     "points": 1,
     "schema_version": 3,
     "solution": false,
     "task": false
    }
   },
   "source": [
    "<font size=\"4px\"><p>This method will flip the x and y coordinates in the coords array.</p>\n",
    "<dl>\n",
    "<dt>param coords</dt>\n",
    "<dd><p>A numpy array of bounding box coordinates with shape [n,5] in format: :</p>\n",
    "<pre><code>[[x11, y11, x12, y12, classid1],\n",
    " [x21, y21, x22, y22, classid2],\n",
    " ...\n",
    " [xn1, yn1, xn2, yn2, classid3]]</code></pre>\n",
    "</dd>\n",
    "<dt>return</dt>\n",
    "<dd><p>The new numpy array where the x and y coordinates are flipped.</p>\n",
    "</dd>\n",
    "</dl>\n",
    "<p><strong>This method is part of a series of debugging exercises.</strong> <strong>Each Python method of this series contains bug that needs to be found.</strong></p>\n",
    "<div class=\"line-block\"><code>1   Can you spot the obvious error?</code><br />\n",
    "<code>2   After fixing the obvious error it is still wrong, how can this be fixed?</code></div>\n",
    "</font>"
   ]
  },
  {
   "cell_type": "markdown",
   "metadata": {
    "nbgrader": {
     "grade": false,
     "grade_id": "305f143b-0d43-417d-8478-045e258c1d2a",
     "locked": true,
     "points": 1,
     "schema_version": 3,
     "solution": false,
     "task": false
    }
   },
   "source": [
    "<font size=\"4px\"><p>The example demonstrates the issue. The returned swapped_coords are expected to have swapped x and y coordinates in each of the rows.</p>\n",
    "</font>"
   ]
  },
  {
   "cell_type": "code",
   "execution_count": 4,
   "metadata": {
    "nbgrader": {
     "grade": false,
     "grade_id": "a9498a72-2a4d-4d03-bcce-fe07e85756ec",
     "locked": false,
     "points": 1,
     "schema_version": 3,
     "solution": false,
     "task": false
    }
   },
   "outputs": [
    {
     "name": "stdout",
     "output_type": "stream",
     "text": [
      "[[ 5 10  6 15  0]\n",
      " [ 3 11  6 13  0]\n",
      " [ 3  5  6 13  1]\n",
      " [ 4  4  6 13  1]\n",
      " [ 5  6 16 13  1]]\n"
     ]
    }
   ],
   "source": [
    "import numpy as np\n",
    "\n",
    "def swap(coords: np.ndarray):\n",
    "    \"\"\"\n",
    "    Flips the x and y coordinates in the coords array.\n",
    "    \"\"\"\n",
    "    coords = coords.copy()  # Avoid in-place overwrite issues\n",
    "    swapped = coords.copy()\n",
    "    swapped[:, 0] = coords[:, 1]  # x1 <- y1\n",
    "    swapped[:, 1] = coords[:, 0]  # y1 <- x1\n",
    "    swapped[:, 2] = coords[:, 3]  # x2 <- y2\n",
    "    swapped[:, 3] = coords[:, 2]  # y2 <- x2\n",
    "    # class id remains unchanged\n",
    "    return swapped\n",
    "\n",
    "# Example Test\n",
    "coords = np.array([[10, 5, 15, 6, 0],\n",
    "                   [11, 3, 13, 6, 0],\n",
    "                   [5, 3, 13, 6, 1],\n",
    "                   [4, 4, 13, 6, 1],\n",
    "                   [6, 5, 13, 16, 1]])\n",
    "\n",
    "swapped_coords = swap(coords)\n",
    "print(swapped_coords)\n",
    "\n",
    "\n"
   ]
  },
  {
   "cell_type": "code",
   "execution_count": 5,
   "metadata": {
    "nbgrader": {
     "grade": false,
     "grade_id": "28f520e2-11c8-4646-9917-b0c07eec0da8",
     "locked": true,
     "points": 1,
     "schema_version": 3,
     "solution": false,
     "task": false
    }
   },
   "outputs": [],
   "source": [
    "import numpy as np\n",
    "coords = np.array([[10, 5, 15, 6, 0],\n",
    "                   [11, 3, 13, 6, 0],\n",
    "                   [5, 3, 13, 6, 1],\n",
    "                   [4, 4, 13, 6, 1],\n",
    "                   [6, 5, 13, 16, 1]])\n",
    "swapped_coords = swap(coords)\n"
   ]
  },
  {
   "cell_type": "markdown",
   "metadata": {
    "nbgrader": {
     "grade": false,
     "grade_id": "a1f01da3-8770-45ca-8d36-92c35558dd17",
     "locked": true,
     "points": 1,
     "schema_version": 3,
     "solution": false,
     "task": false
    }
   },
   "source": [
    "<h1 id=\"exercise-3\"><strong>Exercise 3</strong></h1>\n"
   ]
  },
  {
   "cell_type": "markdown",
   "metadata": {
    "nbgrader": {
     "grade": false,
     "grade_id": "3f04f9e6-5411-42a9-a244-3cf2f1ab3171",
     "locked": true,
     "points": 1,
     "schema_version": 3,
     "solution": false,
     "task": false
    }
   },
   "source": [
    "<font size=\"4px\"><p>This code plots the precision-recall curve based on data from a .csv file, where precision is on the x-axis and recall is on the y-axis. It it not so important right now what precision and recall means.</p>\n",
    "<dl>\n",
    "<dt>param csv_file_path</dt>\n",
    "<dd><p>The CSV file containing the data to plot.</p>\n",
    "</dd>\n",
    "</dl>\n",
    "<p><strong>This method is part of a series of debugging exercises.</strong> <strong>Each Python method of this series contains bug that needs to be found.</strong></p>\n",
    "<div class=\"line-block\"><code>1   For some reason the plot is not showing correctly, can you find out what is going wrong?</code><br />\n",
    "<code>2   How could this be fixed?</code></div>\n",
    "<p>This example demonstrates the issue. It first generates some data in a csv file format and the plots it using the <code>plot_data</code> method. If you manually check the coordinates and then check the plot, they do not correspond.</p>\n",
    "</font>"
   ]
  },
  {
   "cell_type": "code",
   "execution_count": 6,
   "metadata": {
    "nbgrader": {
     "grade": false,
     "grade_id": "94c9cc8b-f0eb-47d5-b03d-12368e976de5",
     "locked": false,
     "points": 1,
     "schema_version": 3,
     "solution": false,
     "task": false
    }
   },
   "outputs": [
    {
     "data": {
      "image/png": "[encoded data removed]",
      "text/plain": [
       "<Figure size 640x480 with 1 Axes>"
      ]
     },
     "metadata": {},
     "output_type": "display_data"
    }
   ],
   "source": [
    "import csv\n",
    "import numpy as np\n",
    "import matplotlib.pyplot as plt\n",
    "\n",
    "# Step 1: Create the CSV file\n",
    "def create_csv():\n",
    "    with open(\"data_file.csv\", \"w\", newline=\"\") as f:\n",
    "        writer = csv.writer(f)\n",
    "        writer.writerow([\"precision\", \"recall\"])\n",
    "        writer.writerows([\n",
    "            [0.013, 0.951],\n",
    "            [0.376, 0.851],\n",
    "            [0.441, 0.839],\n",
    "            [0.570, 0.758],\n",
    "            [0.635, 0.674],\n",
    "            [0.721, 0.604],\n",
    "            [0.837, 0.531],\n",
    "            [0.860, 0.453],\n",
    "            [0.962, 0.348],\n",
    "            [0.982, 0.273],\n",
    "            [1.0, 0.0]\n",
    "        ])\n",
    "\n",
    "# Step 2: Plot the precision-recall data\n",
    "def plot_data(csv_file_path: str):\n",
    "    results = []\n",
    "    with open(csv_file_path) as result_csv:\n",
    "        csv_reader = csv.reader(result_csv)\n",
    "        next(csv_reader)  # Skip header\n",
    "        for row in csv_reader:\n",
    "            results.append([float(val) for val in row])\n",
    "    results = np.array(results)\n",
    "\n",
    "    plt.plot(results[:, 0], results[:, 1], marker='o')\n",
    "    plt.xlim([-0.05, 1.05])\n",
    "    plt.ylim([-0.05, 1.05])\n",
    "    plt.xlabel('Precision')\n",
    "    plt.ylabel('Recall')\n",
    "    plt.title('Precision-Recall Curve')\n",
    "    plt.grid(True)\n",
    "    plt.show()\n",
    "\n",
    "# Run everything\n",
    "create_csv()\n",
    "plot_data(\"data_file.csv\")\n",
    "\n",
    "\n"
   ]
  },
  {
   "cell_type": "markdown",
   "metadata": {
    "nbgrader": {
     "grade": false,
     "grade_id": "e5847fdf-e1ac-4ed6-afcf-3770d90f09b3",
     "locked": true,
     "points": 1,
     "schema_version": 3,
     "solution": false,
     "task": false
    }
   },
   "source": [
    "<h1 id=\"generator-for-exercise-4\">** Generator (for Exercise 4)**</h1>\n"
   ]
  },
  {
   "cell_type": "markdown",
   "metadata": {
    "nbgrader": {
     "grade": false,
     "grade_id": "c44ce22c-62b5-4b4e-a21c-d5fa92fa0c0f",
     "locked": true,
     "points": 1,
     "schema_version": 3,
     "solution": false,
     "task": false
    }
   },
   "source": [
    "<font size=\"4px\"><p>Generator class for the GAN</p>\n",
    "</font>"
   ]
  },
  {
   "cell_type": "code",
   "execution_count": 7,
   "metadata": {
    "nbgrader": {
     "grade": false,
     "grade_id": "b6fc98b2-8167-4b7f-bfcb-c89e1b641d19",
     "locked": false,
     "points": 1,
     "schema_version": 3,
     "solution": false,
     "task": false
    }
   },
   "outputs": [
    {
     "ename": "NameError",
     "evalue": "name 'nn' is not defined",
     "output_type": "error",
     "traceback": [
      "\u001b[1;31m---------------------------------------------------------------------------\u001b[0m",
      "\u001b[1;31mNameError\u001b[0m                                 Traceback (most recent call last)",
      "Cell \u001b[1;32mIn[7], line 2\u001b[0m\n\u001b[0;32m      1\u001b[0m \u001b[38;5;66;03m# You can copy this code to your personal pipeline project or execute it here.\u001b[39;00m\n\u001b[1;32m----> 2\u001b[0m \u001b[38;5;28;01mclass\u001b[39;00m \u001b[38;5;21;01mGenerator\u001b[39;00m(nn\u001b[38;5;241m.\u001b[39mModule):\n\u001b[0;32m      3\u001b[0m \u001b[38;5;250m    \u001b[39m\u001b[38;5;124;03m\"\"\"\u001b[39;00m\n\u001b[0;32m      4\u001b[0m \u001b[38;5;124;03m    Generator class for the GAN\u001b[39;00m\n\u001b[0;32m      5\u001b[0m \u001b[38;5;124;03m    \"\"\"\u001b[39;00m\n\u001b[0;32m      7\u001b[0m     \u001b[38;5;28;01mdef\u001b[39;00m \u001b[38;5;21m__init__\u001b[39m(\u001b[38;5;28mself\u001b[39m):\n",
      "\u001b[1;31mNameError\u001b[0m: name 'nn' is not defined"
     ]
    }
   ],
   "source": [
    "# You can copy this code to your personal pipeline project or execute it here.\n",
    "class Generator(nn.Module):\n",
    "    \"\"\"\n",
    "    Generator class for the GAN\n",
    "    \"\"\"\n",
    "\n",
    "    def __init__(self):\n",
    "        super().__init__()\n",
    "        self.model = nn.Sequential(\n",
    "            nn.Linear(100, 256),\n",
    "            nn.ReLU(),\n",
    "            nn.Linear(256, 512),\n",
    "            nn.ReLU(),\n",
    "            nn.Linear(512, 1024),\n",
    "            nn.ReLU(),\n",
    "            nn.Linear(1024, 784),\n",
    "            nn.Tanh(),\n",
    "        )\n",
    "\n",
    "    def forward(self, x):\n",
    "        output = self.model(x)\n",
    "        output = output.view(x.size(0), 1, 28, 28)\n",
    "        return output\n",
    "\n"
   ]
  },
  {
   "cell_type": "markdown",
   "metadata": {
    "nbgrader": {
     "grade": false,
     "grade_id": "edf16cad-258f-487a-a943-add21d1f133a",
     "locked": true,
     "points": 1,
     "schema_version": 3,
     "solution": false,
     "task": false
    }
   },
   "source": [
    "<h1 id=\"discriminator-for-exercise-4\">** Discriminator (for Exercise 4)**</h1>\n"
   ]
  },
  {
   "cell_type": "markdown",
   "metadata": {
    "nbgrader": {
     "grade": false,
     "grade_id": "64cb9d71-aa84-4f28-9c16-c84ae48a3c44",
     "locked": true,
     "points": 1,
     "schema_version": 3,
     "solution": false,
     "task": false
    }
   },
   "source": [
    "<font size=\"4px\"><p>Discriminator class for the GAN</p>\n",
    "</font>"
   ]
  },
  {
   "cell_type": "code",
   "execution_count": null,
   "metadata": {
    "nbgrader": {
     "grade": false,
     "grade_id": "794a7f53-5d26-4027-a411-02e35c7a17a1",
     "locked": false,
     "points": 1,
     "schema_version": 3,
     "solution": false,
     "task": false
    }
   },
   "outputs": [],
   "source": [
    "# You can copy this code to your personal pipeline project or execute it here.\n",
    "class Discriminator(nn.Module):\n",
    "    \"\"\"\n",
    "    Discriminator class for the GAN\n",
    "    \"\"\"\n",
    "    def __init__(self):\n",
    "        super().__init__()\n",
    "        self.model = nn.Sequential(\n",
    "            nn.Linear(784, 1024),\n",
    "            nn.ReLU(),\n",
    "            nn.Dropout(0.3),\n",
    "            nn.Linear(1024, 512),\n",
    "            nn.ReLU(),\n",
    "            nn.Dropout(0.3),\n",
    "            nn.Linear(512, 256),\n",
    "            nn.ReLU(),\n",
    "            nn.Dropout(0.3),\n",
    "            nn.Linear(256, 1),\n",
    "            nn.Sigmoid(),\n",
    "        )\n",
    "\n",
    "    def forward(self, x):\n",
    "        x = x.view(x.size(0), 784)\n",
    "        output = self.model(x)\n",
    "        return output\n",
    "\n"
   ]
  },
  {
   "cell_type": "markdown",
   "metadata": {
    "nbgrader": {
     "grade": false,
     "grade_id": "eabb4be5-9c19-44d2-a468-21d8adb038b2",
     "locked": true,
     "points": 1,
     "schema_version": 3,
     "solution": false,
     "task": false
    }
   },
   "source": [
    "<h1 id=\"exercise-4\">** Exercise 4**</h1>\n"
   ]
  },
  {
   "cell_type": "markdown",
   "metadata": {
    "nbgrader": {
     "grade": false,
     "grade_id": "7bd45bd0-09eb-41d5-9ac7-cbb4a648d45f",
     "locked": true,
     "points": 1,
     "schema_version": 3,
     "solution": false,
     "task": false
    }
   },
   "source": [
    "<font size=\"4px\"><p>The method trains a Generative Adversarial Network and is based on: <a href=\"https://realpython.com/generative-adversarial-networks/\">https://realpython.com/generative-adversarial-networks/</a></p>\n",
    "<p>The Generator network tries to generate convincing images of handwritten digits. The Discriminator needs to detect if the image was created by the Generater or if the image is a real image from a known dataset (MNIST). If both the Generator and the Discriminator are optimized, the Generator is able to create images that are difficult to distinguish from real images. This is goal of a GAN.</p>\n",
    "<p>This code produces the expected results at first attempt at about 50 epochs.</p>\n",
    "<dl>\n",
    "<dt>param batch_size</dt>\n",
    "<dd><p>The number of images to train in one epoch.</p>\n",
    "</dd>\n",
    "<dt>param num_epochs</dt>\n",
    "<dd><p>The number of epochs to train the gan.</p>\n",
    "</dd>\n",
    "<dt>param device</dt>\n",
    "<dd><p>The computing device to use. If CUDA is installed and working then <span class=\"title-ref\">cuda:0</span> is chosen otherwise 'cpu' is chosen. Note: Training a GAN on the CPU is very slow.</p>\n",
    "</dd>\n",
    "</dl>\n",
    "<p><strong>This method is part of a series of debugging exercises.</strong> <strong>Each Python method of this series contains bug that needs to be found.</strong></p>\n",
    "<p>It contains at least two bugs: one structural bug and one cosmetic bug. Both bugs are from the original tutorial.</p>\n",
    "<div class=\"line-block\"><code>1   Changing the batch_size from 32 to 64 triggers the structural bug.</code><br />\n",
    "<code>2   Can you also spot the cosmetic bug?</code><br />\n",
    "<code>Note: to fix this bug a thorough understanding of GANs is not necessary.</code></div>\n",
    "<p>Change the batch size to 64 to trigger the bug with message: ValueError: \"Using a target size (torch.Size([128, 1])) that is different to the input size (torch.Size([96, 1])) is deprecated. Please ensure they have the same size.\"</p>\n",
    "</font>"
   ]
  },
  {
   "cell_type": "code",
   "execution_count": null,
   "metadata": {},
   "outputs": [],
   "source": [
    "%pip install torch torchvision matplotlib\n"
   ]
  },
  {
   "cell_type": "code",
   "execution_count": null,
   "metadata": {},
   "outputs": [],
   "source": [
    "!pip install torch torchvision torchaudio --index-url https://download.pytorch.org/whl/cpu\n",
    "\n"
   ]
  },
  {
   "cell_type": "code",
   "execution_count": null,
   "metadata": {},
   "outputs": [
    {
     "data": {
      "image/png": "[encoded data removed]",
      "text/plain": [
       "<Figure size 500x500 with 16 Axes>"
      ]
     },
     "metadata": {},
     "output_type": "display_data"
    }
   ],
   "source": [
    "import torch\n",
    "from torch import nn\n",
    "import torchvision\n",
    "from torchvision import transforms\n",
    "import matplotlib.pyplot as plt\n",
    "import numpy as np\n",
    "import time\n",
    "from IPython.display import display, clear_output\n",
    "\n",
    "# Generator class\n",
    "class Generator(nn.Module):\n",
    "    def __init__(self):\n",
    "        super().__init__()\n",
    "        self.model = nn.Sequential(\n",
    "            nn.Linear(100, 256),\n",
    "            nn.ReLU(),\n",
    "            nn.Linear(256, 512),\n",
    "            nn.ReLU(),\n",
    "            nn.Linear(512, 1024),\n",
    "            nn.ReLU(),\n",
    "            nn.Linear(1024, 784),\n",
    "            nn.Tanh(),\n",
    "        )\n",
    "\n",
    "    def forward(self, x):\n",
    "        output = self.model(x)\n",
    "        output = output.view(x.size(0), 1, 28, 28)\n",
    "        return output\n",
    "\n",
    "# Discriminator class\n",
    "class Discriminator(nn.Module):\n",
    "    def __init__(self):\n",
    "        super().__init__()\n",
    "        self.model = nn.Sequential(\n",
    "            nn.Linear(784, 1024),\n",
    "            nn.ReLU(),\n",
    "            nn.Dropout(0.3),\n",
    "            nn.Linear(1024, 512),\n",
    "            nn.ReLU(),\n",
    "            nn.Dropout(0.3),\n",
    "            nn.Linear(512, 256),\n",
    "            nn.ReLU(),\n",
    "            nn.Dropout(0.3),\n",
    "            nn.Linear(256, 1),\n",
    "            nn.Sigmoid(),\n",
    "        )\n",
    "\n",
    "    def forward(self, x):\n",
    "        x = x.view(x.size(0), 784)\n",
    "        output = self.model(x)\n",
    "        return output\n",
    "\n",
    "# GAN Training Function\n",
    "def train_gan(batch_size: int = 32, num_epochs: int = 100, device: str = \"cuda:0\" if torch.cuda.is_available() else \"cpu\"):\n",
    "    transform = transforms.Compose([\n",
    "        transforms.ToTensor(),\n",
    "        transforms.Normalize((0.5,), (0.5,))\n",
    "    ])\n",
    "\n",
    "    try:\n",
    "        train_set = torchvision.datasets.MNIST(root=\".\", train=True, download=True, transform=transform)\n",
    "    except:\n",
    "        print(\"Failed to download MNIST, retrying with alternative source...\")\n",
    "        torchvision.datasets.MNIST.resources = [\n",
    "            ('https://ossci-datasets.s3.amazonaws.com/mnist/train-images-idx3-ubyte.gz', 'f68b3c2dcbeaaa9fbdd348bbdeb94873'),\n",
    "            ('https://ossci-datasets.s3.amazonaws.com/mnist/train-labels-idx1-ubyte.gz', 'd53e105ee54ea40749a09fcbcd1e9432'),\n",
    "            ('https://ossci-datasets.s3.amazonaws.com/mnist/t10k-images-idx3-ubyte.gz', '9fb629c4189551a2d022fa330f9573f3'),\n",
    "            ('https://ossci-datasets.s3.amazonaws.com/mnist/t10k-labels-idx1-ubyte.gz', 'ec29112dd5afa0611ce80d1b7f02629c')\n",
    "        ]\n",
    "        train_set = torchvision.datasets.MNIST(root=\".\", train=True, download=True, transform=transform)\n",
    "\n",
    "    train_loader = torch.utils.data.DataLoader(train_set, batch_size=batch_size, shuffle=True)\n",
    "\n",
    "    discriminator = Discriminator().to(device)\n",
    "    generator = Generator().to(device)\n",
    "\n",
    "    loss_function = nn.BCELoss()\n",
    "    lr = 0.0001\n",
    "    optimizer_discriminator = torch.optim.Adam(discriminator.parameters(), lr=lr)\n",
    "    optimizer_generator = torch.optim.Adam(generator.parameters(), lr=lr)\n",
    "\n",
    "    for epoch in range(num_epochs):\n",
    "        for n, (real_samples, _) in enumerate(train_loader):\n",
    "            current_batch_size = real_samples.size(0)\n",
    "            real_samples = real_samples.to(device)\n",
    "\n",
    "            # Real and fake labels\n",
    "            real_samples_labels = torch.ones((current_batch_size, 1)).to(device)\n",
    "            generated_samples_labels = torch.zeros((current_batch_size, 1)).to(device)\n",
    "\n",
    "            # Generate fake images\n",
    "            latent_space_samples = torch.randn((current_batch_size, 100)).to(device)\n",
    "            generated_samples = generator(latent_space_samples)\n",
    "\n",
    "            # Combine real and fake data\n",
    "            all_samples = torch.cat((real_samples, generated_samples))\n",
    "            all_labels = torch.cat((real_samples_labels, generated_samples_labels))\n",
    "\n",
    "            # Train discriminator\n",
    "            discriminator.zero_grad()\n",
    "            output_discriminator = discriminator(all_samples)\n",
    "            loss_discriminator = loss_function(output_discriminator, all_labels)\n",
    "            loss_discriminator.backward()\n",
    "            optimizer_discriminator.step()\n",
    "\n",
    "            # Generate more fake data\n",
    "            latent_space_samples = torch.randn((current_batch_size, 100)).to(device)\n",
    "            generator.zero_grad()\n",
    "            generated_samples = generator(latent_space_samples)\n",
    "            output_discriminator_generated = discriminator(generated_samples)\n",
    "            loss_generator = loss_function(output_discriminator_generated, real_samples_labels)\n",
    "            loss_generator.backward()\n",
    "            optimizer_generator.step()\n",
    "\n",
    "            # Cosmetic fix: Show output once per epoch\n",
    "            if n == 0:\n",
    "                name = f\"Generated Images — Epoch: {epoch} | Loss D: {loss_discriminator:.2f}, Loss G: {loss_generator:.2f}\"\n",
    "                generated_samples = generated_samples.detach().cpu().numpy()\n",
    "                fig = plt.figure(figsize=(5, 5))\n",
    "                for i in range(16):\n",
    "                    sub = fig.add_subplot(4, 4, i + 1)\n",
    "                    sub.imshow(generated_samples[i].reshape(28, 28), cmap=\"gray_r\")\n",
    "                    sub.axis('off')\n",
    "                fig.suptitle(name)\n",
    "                fig.tight_layout()\n",
    "                clear_output(wait=True)\n",
    "                display(fig)\n",
    "\n",
    "# Run the training\n",
    "train_gan(batch_size=64, num_epochs=50)\n"
   ]
  },
  {
   "cell_type": "code",
   "execution_count": null,
   "metadata": {},
   "outputs": [],
   "source": []
  },
  {
   "cell_type": "code",
   "execution_count": null,
   "metadata": {},
   "outputs": [],
   "source": []
  }
 ],
 "metadata": {
  "celltoolbar": "Create Assignment",
  "kernelspec": {
   "display_name": "Python 3 (ipykernel)",
   "language": "python",
   "name": "python3"
  },
  "language_info": {
   "codemirror_mode": {
    "name": "ipython",
    "version": 3
   },
   "file_extension": ".py",
   "mimetype": "text/x-python",
   "name": "python",
   "nbconvert_exporter": "python",
   "pygments_lexer": "ipython3",
   "version": "3.12.7"
  }
 },
 "nbformat": 4,
 "nbformat_minor": 4
}
